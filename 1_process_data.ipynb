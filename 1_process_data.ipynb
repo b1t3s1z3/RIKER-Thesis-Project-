{
 "cells": [
  {
   "cell_type": "code",
   "execution_count": 1,
   "metadata": {
    "scrolled": true
   },
   "outputs": [
    {
     "name": "stderr",
     "output_type": "stream",
     "text": [
      "UsageError: Line magic function `%` not found.\n"
     ]
    }
   ],
   "source": [
    "# RIKER 1.0.0 - Facial Data is imported (after having been processed by OpenFace with -aus flag),\n",
    "# and data is temporally segmented to identify the start, end, and peak of individual \n",
    "# Facial Action units. Then, individual actions are aggregated together into a DataFrame,\n",
    "# Then, the aggregated actions are clustered together (using DBSCAN algorithm)\n",
    "# into Facial Gestures, and the FGs are filtered (very minor gestures are removed).\n",
    "# Lastly, timestamp information is loaded in from the .log file, and FGs are matched up with the\n",
    "# trimmed to include only FGs that occurred during the poker game (those that occurred before and\n",
    "# after are discarded), and the FGs are given new timestamps relative to the beginning\n",
    "# of the poker game.\n",
    "\n",
    "from datetime import datetime\n",
    "import pandas as pd\n",
    "import modules.process_utils as utils"
   ]
  },
  {
   "cell_type": "code",
   "execution_count": null,
   "metadata": {},
   "outputs": [],
   "source": [
    "#Main execution of program components\n",
    "\n",
    "#Subject-by-subject metadata, including \"subject number\" and start time of their game.\n",
    "subject_map = pd.read_csv('data/raw/subject_map.csv')\n",
    "\n",
    "# For each subject on which we have data – with example of just subject 1,\n",
    "# keep this in range 1,2.\n",
    "for subject_num in range(1, 2):\n",
    "    print(f'STARTING SUBJECT NUMBER {subject_num}')\n",
    "\n",
    "    # Calculate Facial Gestures (FGs) from facial data as processed by OpenFace.\n",
    "    filtered_gestures = utils.get_fg(subject_num)\n",
    "\n",
    "    # Get time stamps from subject log\n",
    "    timestamps = utils.get_timestamps(f'/data/raw/timestamps_{subject_num}.log')\n",
    "\n",
    "    # Get record start time data\n",
    "    rec_start_time = datetime.strptime(subject_map.iloc[subject_num - 1, 1], \"%H:%M:%S,%f\")\n",
    "\n",
    "    # Trim FGs to be FGs that occurred during the poker game\n",
    "    game_gests = utils.trim_gestures(filtered_gestures, timestamps, rec_start_time)\n",
    "\n",
    "    #UNCOMMENT THIS NEXT LINE TO OUTPUT THE RESULTS TO THE NEXT PHASE\n",
    "    game_gests.to_csv(f'data/processed/valid_fg_{subject_num}.csv')"
   ]
  },
  {
   "cell_type": "code",
   "execution_count": null,
   "metadata": {},
   "outputs": [],
   "source": []
  }
 ],
 "metadata": {
  "kernelspec": {
   "display_name": "Python 3",
   "language": "python",
   "name": "python3"
  },
  "language_info": {
   "codemirror_mode": {
    "name": "ipython",
    "version": 3
   },
   "file_extension": ".py",
   "mimetype": "text/x-python",
   "name": "python",
   "nbconvert_exporter": "python",
   "pygments_lexer": "ipython3",
   "version": "3.6.4"
  }
 },
 "nbformat": 4,
 "nbformat_minor": 2
}